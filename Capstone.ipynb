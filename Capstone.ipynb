{
  "nbformat": 4,
  "nbformat_minor": 0,
  "metadata": {
    "colab": {
      "name": "Capstone.ipynb",
      "provenance": []
    },
    "kernelspec": {
      "name": "python3",
      "display_name": "Python 3"
    }
  },
  "cells": [
    {
      "cell_type": "markdown",
      "metadata": {
        "id": "iuztFY505R83",
        "colab_type": "text"
      },
      "source": [
        "This Jupyter Notebook is for ***Applied Data Science Capstone***\n"
      ]
    },
    {
      "cell_type": "code",
      "metadata": {
        "id": "JNkkQ2Gz5fMe",
        "colab_type": "code",
        "colab": {}
      },
      "source": [
        "#Importing LIBRARIES\n",
        "import pandas as pd\n",
        "import numpy as np"
      ],
      "execution_count": 0,
      "outputs": []
    },
    {
      "cell_type": "code",
      "metadata": {
        "id": "oFmJOxj08ojq",
        "colab_type": "code",
        "colab": {
          "base_uri": "https://localhost:8080/",
          "height": 34
        },
        "outputId": "9b61a9c5-619c-456b-d3c8-cbcfd196de2b"
      },
      "source": [
        "print(\"Hello Capstone Project Course!\")"
      ],
      "execution_count": 2,
      "outputs": [
        {
          "output_type": "stream",
          "text": [
            "Hello Capstone Project Course!\n"
          ],
          "name": "stdout"
        }
      ]
    }
  ]
}
